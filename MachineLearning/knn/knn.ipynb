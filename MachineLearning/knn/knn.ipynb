{
 "cells": [
  {
   "cell_type": "code",
   "execution_count": 1,
   "metadata": {},
   "outputs": [],
   "source": [
    "import math\n",
    "import pandas as pd\n",
    "import numpy as np\n",
    "from enum import Enum\n",
    "from numpy.random.mtrand import randint\n",
    "from matplotlib import pyplot"
   ]
  },
  {
   "cell_type": "code",
   "execution_count": 2,
   "metadata": {},
   "outputs": [],
   "source": [
    "class DistFunc(Enum):\n",
    "    manhattan = \"manhattan\"\n",
    "    euclidean = \"euclidean\"\n",
    "    chebyshev = \"chebyshev\"\n",
    "\n",
    "\n",
    "class KernelType(Enum):\n",
    "    uniform = \"uniform\"\n",
    "    triangular = \"triangular\"\n",
    "    epanechnikov = \"epanechnikov\"\n",
    "    quartic = \"quartic\"\n",
    "    triweight = \"triweight\"\n",
    "    tricube = \"tricube\"\n",
    "    gaussian = \"gaussian\"\n",
    "    cosine = \"cosine\"\n",
    "    logistic = \"logistic\"\n",
    "    sigmoid = \"sigmoid\"\n",
    "\n",
    "\n",
    "class WidthType(Enum):\n",
    "    fixed = \"fixed\"\n",
    "    variable = \"variable\""
   ]
  },
  {
   "cell_type": "code",
   "execution_count": 3,
   "metadata": {},
   "outputs": [],
   "source": [
    "def distance(dist, a, b):\n",
    "    res = 0.0\n",
    "    temp = min(len(a), len(b))\n",
    "    if dist == DistFunc.manhattan:\n",
    "        for i in range(temp):\n",
    "            res += abs(a[i] - b[i])\n",
    "    elif dist == DistFunc.euclidean:\n",
    "        for i in range(temp):\n",
    "            res += pow((a[i] - b[i]), 2)\n",
    "        res = math.sqrt(res)\n",
    "    elif dist == DistFunc.chebyshev:\n",
    "        for i in range(temp):\n",
    "            res = max(res, abs(a[i] - b[i]))\n",
    "    return res"
   ]
  },
  {
   "cell_type": "code",
   "execution_count": 4,
   "metadata": {},
   "outputs": [],
   "source": [
    "def knn(kernel, dist, h):\n",
    "    u = dist / h\n",
    "    if kernel == KernelType.uniform:\n",
    "        if u < 1:\n",
    "            return 0.5\n",
    "        else:\n",
    "            return 0.0\n",
    "    elif kernel == KernelType.triangular:\n",
    "        if u < 1:\n",
    "            return 1 - u\n",
    "        else:\n",
    "            return 0.0\n",
    "    elif kernel == KernelType.epanechnikov:\n",
    "        if u < 1:\n",
    "            return 0.75 * (1 - (u * u))\n",
    "        else:\n",
    "            return 0.0\n",
    "    elif kernel == KernelType.quartic:\n",
    "        if u < 1:\n",
    "            return (15.0 / 16.0) * pow(1 - pow(u, 2), 2)\n",
    "        else:\n",
    "            return 0.0\n",
    "    elif kernel == KernelType.triweight:\n",
    "        if u < 1:\n",
    "            return (35.0 / 32.0) * pow(1 - pow(u, 2), 3)\n",
    "        else:\n",
    "            return 0.0\n",
    "    elif kernel == KernelType.tricube:\n",
    "        if u < 1:\n",
    "            return (70.0 / 81.0) * pow(1 - pow(u, 3), 3)\n",
    "        else:\n",
    "            return 0.0\n",
    "    elif kernel == KernelType.gaussian:\n",
    "        return 1 / math.sqrt(2 * math.pi) * (math.exp(-0.5 * pow(u, 2)))\n",
    "    elif kernel == KernelType.cosine:\n",
    "        if u < 1:\n",
    "            return (math.pi / 4) * math.cos((math.pi / 2) * u)\n",
    "        else:\n",
    "            return 0.0\n",
    "    elif kernel == KernelType.logistic:\n",
    "        return 1 / (math.exp(u) + 2 + math.exp(-u))\n",
    "    elif kernel == KernelType.sigmoid:\n",
    "        return 2 / (math.pi * (math.exp(u) + math.exp(-u)))"
   ]
  },
  {
   "cell_type": "code",
   "execution_count": 5,
   "metadata": {},
   "outputs": [],
   "source": [
    "def minmax(dataset):\n",
    "    minmax = list()\n",
    "    for i in range(len(dataset[0])):\n",
    "        if i == len(dataset[0]) - 1:\n",
    "            continue\n",
    "        value_min = dataset[:, i].min()\n",
    "        value_max = dataset[:, i].max()\n",
    "        minmax.append([value_min, value_max])\n",
    "    return minmax"
   ]
  },
  {
   "cell_type": "code",
   "execution_count": 6,
   "metadata": {},
   "outputs": [],
   "source": [
    "def normalize(dataset, minmax):\n",
    "    for row in dataset:\n",
    "        for i in range(len(row)):\n",
    "            if i == len(row) - 1:\n",
    "                continue\n",
    "            row[i] = (row[i] - minmax[i][0]) / (minmax[i][1] - minmax[i][0])\n",
    "\n",
    "    return dataset"
   ]
  },
  {
   "cell_type": "code",
   "execution_count": 7,
   "metadata": {},
   "outputs": [],
   "source": [
    "def cross_v(c, m):\n",
    "    c.sort()\n",
    "    res = [[] for i in range(m)]\n",
    "    for i in range(len(c)):\n",
    "        res[i % m].append(c[i])\n",
    "    return res"
   ]
  },
  {
   "cell_type": "code",
   "execution_count": 8,
   "metadata": {},
   "outputs": [],
   "source": [
    "def f_score(conf, k=3):\n",
    "    f_score = [0] * k\n",
    "    precision = [0] * k\n",
    "    recall = [0] * k\n",
    "    sum_i = [0] * k\n",
    "    sum_j = [0] * k\n",
    "\n",
    "    for i in range(k):\n",
    "        for j in range(k):\n",
    "            sum_i[i] += conf[i][j]\n",
    "            sum_j[i] += conf[j][i]\n",
    "\n",
    "    accuracy = 0\n",
    "    a = sum(sum_i)\n",
    "\n",
    "    for i in range(k):\n",
    "        accuracy += conf[i][i]\n",
    "\n",
    "    accuracy /= a\n",
    "\n",
    "    for c in range(k):\n",
    "        precision[c] = 0 if sum_i[c] == 0 else (conf[c][c]) / (sum_i[c])\n",
    "        recall[c] = 0 if sum_j[c] == 0 else (conf[c][c]) / (sum_j[c])\n",
    "        if (precision[c] + recall[c] == 0):\n",
    "            f_score[c] += 0.0\n",
    "        else:\n",
    "            f_score[c] += 2 * (precision[c] * recall[c]) / (precision[c] + recall[c])\n",
    "\n",
    "    micro = sum([f_score[i] * sum_i[i] for i in range(k)]) / a\n",
    "    macro_prec = sum([precision[i] * sum_i[i] for i in range(k)]) / a\n",
    "    macro_rec = sum([recall[i] * sum_i[i] for i in range(k)]) / a\n",
    "\n",
    "    if (macro_prec + macro_rec == 0):\n",
    "        macro = 0.0\n",
    "    else:\n",
    "        macro = 2 * macro_prec * macro_rec / (macro_prec + macro_rec)\n",
    "\n",
    "    return macro"
   ]
  },
  {
   "cell_type": "code",
   "execution_count": 9,
   "metadata": {},
   "outputs": [],
   "source": [
    "def params_generate():\n",
    "    result = []\n",
    "    for kernel in KernelType:\n",
    "        for func in DistFunc:\n",
    "            for width in WidthType:\n",
    "                matrix = [[0, 0, 0], [0, 0, 0], [0, 0, 0]]\n",
    "                m = randint(1, len(data_n))\n",
    "                if width == WidthType.variable:\n",
    "                    h = randint(0, len(dataset.values))\n",
    "                else:\n",
    "                    h = randint(0, 5)\n",
    "                temp = cross_v(data_n, m)\n",
    "                for i in range(m):\n",
    "                    for j in range(len(temp[i])):\n",
    "                        target = temp[i][j]\n",
    "                        ans = k_func(func, kernel, width, h, target[:7])\n",
    "                        if ans == target[7]:\n",
    "                            k = int(target[7]) - 1\n",
    "                            matrix[k][k] += 1\n",
    "                        else:\n",
    "                            k = int(target[7]) - 1\n",
    "                            s = int(ans) - 1\n",
    "                            matrix[k][s] += 1\n",
    "\n",
    "                result.append([f_score(matrix), kernel, func, width, h])\n",
    "    result.sort(key=lambda x: x[0], reverse=True)\n",
    "    for i in range(len(result)):\n",
    "        if result[i][3] == WidthType.variable:\n",
    "            f_variable.append([result[i][4], result[i][0]])\n",
    "        else:\n",
    "            f_fixed.append([result[i][4], result[i][0]])\n",
    "    return result[0]"
   ]
  },
  {
   "cell_type": "code",
   "execution_count": 10,
   "metadata": {},
   "outputs": [],
   "source": [
    "def k_func(disFunc, kernelT, wType, h, target):\n",
    "    dis_es = []\n",
    "    for i in range(len(data_n)):\n",
    "        dis_es.append([distance(disFunc, data_n[i], target), i, data_n[i][7]])\n",
    "    sorted(dis_es, key=lambda x: x[0])\n",
    "    res = 0\n",
    "    a = 0\n",
    "    b = 0\n",
    "    if wType == WidthType.variable:\n",
    "        h = dis_es[h][0]\n",
    "    if h == 0:\n",
    "        if data_n[dis_es[0][1]][:7] in target:\n",
    "            idx = 0\n",
    "            for i in range(len(dis_es)):\n",
    "                if data_n[dis_es[i][1]][:7] in target:\n",
    "                    res += dis_es[i][2]\n",
    "                    idx += 1\n",
    "            res /= idx\n",
    "            return res\n",
    "        else:\n",
    "            for i in range(len(dis_es)):\n",
    "                res += dis_es[i][2]\n",
    "            res /= 210\n",
    "            return res\n",
    "    else:\n",
    "        for i in range(len(dis_es)):\n",
    "            a += 7 * (dis_es[i][2] * knn(kernelT, dis_es[i][0], h))\n",
    "            b += 7 * knn(kernelT, dis_es[i][0], h)\n",
    "        if b == 0:\n",
    "            for i in range(len(dis_es)):\n",
    "                res += dis_es[i][2]\n",
    "            res /= 210\n",
    "        else:\n",
    "            res = a / b\n",
    "    return res"
   ]
  },
  {
   "cell_type": "code",
   "execution_count": 11,
   "metadata": {},
   "outputs": [
    {
     "name": "stdout",
     "output_type": "stream",
     "text": [
      "[0.4327585361538117, <KernelType.quartic: 'quartic'>, <DistFunc.manhattan: 'manhattan'>, <WidthType.variable: 'variable'>, 70]\n",
      "2\n"
     ]
    }
   ],
   "source": [
    "dataset = pd.read_csv('seismic-bumps.csv', sep=',')\n",
    "min_max = minmax(dataset.values)\n",
    "\n",
    "data_n = normalize(dataset.values, min_max)\n",
    "\n",
    "f_variable = []\n",
    "fs_v = []\n",
    "f_fixed = []\n",
    "fs_f = []\n",
    "h_variable = []\n",
    "k_fixed = []\n",
    "\n",
    "target = np.array([12.3, 13.34, 0.8684, 5.243, 2.974, 5.637, 5.063])\n",
    "for i in range(target.size):\n",
    "    target[i] = (target[i] - min_max[i][0]) / (min_max[i][1] - min_max[i][0])\n",
    "\n",
    "best = params_generate()\n",
    "f_variable.sort(key=lambda x: x[0])\n",
    "f_fixed.sort(key=lambda x: x[0])\n",
    "for i in range(len(f_variable)):\n",
    "    h_variable.append(f_variable[i][0])\n",
    "    fs_v.append(f_variable[i][1])\n",
    "    \n",
    "for i in range(len(f_fixed)):\n",
    "    k_fixed.append(f_fixed[i][0])\n",
    "    fs_f.append(f_fixed[i][1])    \n",
    "print(best)\n",
    "target_class = k_func(best[2], best[1], best[3], best[4], target)\n",
    "if target_class <= 1.5:\n",
    "    target_class = 1\n",
    "elif 1.5 < target_class <= 2.5:\n",
    "    target_class = 2\n",
    "else:\n",
    "    target_class = 3\n",
    "print(target_class)"
   ]
  },
  {
   "cell_type": "code",
   "execution_count": 12,
   "metadata": {},
   "outputs": [
    {
     "data": {
      "text/plain": [
       "[<matplotlib.lines.Line2D at 0xc6a5460>]"
      ]
     },
     "execution_count": 12,
     "metadata": {},
     "output_type": "execute_result"
    },
    {
     "data": {
      "image/png": "[encoded data removed]",
      "text/plain": [
       "<Figure size 432x288 with 1 Axes>"
      ]
     },
     "metadata": {
      "needs_background": "light"
     },
     "output_type": "display_data"
    }
   ],
   "source": [
    "pyplot.plot(k_fixed, fs_f) "
   ]
  },
  {
   "cell_type": "code",
   "execution_count": 13,
   "metadata": {},
   "outputs": [
    {
     "data": {
      "text/plain": [
       "[<matplotlib.lines.Line2D at 0xe708430>]"
      ]
     },
     "execution_count": 13,
     "metadata": {},
     "output_type": "execute_result"
    },
    {
     "data": {
      "image/png": "[encoded data removed]",
      "text/plain": [
       "<Figure size 432x288 with 1 Axes>"
      ]
     },
     "metadata": {
      "needs_background": "light"
     },
     "output_type": "display_data"
    }
   ],
   "source": [
    "pyplot.plot(h_variable, fs_f) "
   ]
  },
  {
   "cell_type": "code",
   "execution_count": null,
   "metadata": {},
   "outputs": [],
   "source": []
  }
 ],
 "metadata": {
  "kernelspec": {
   "display_name": "Python 3",
   "language": "python",
   "name": "python3"
  },
  "language_info": {
   "codemirror_mode": {
    "name": "ipython",
    "version": 3
   },
   "file_extension": ".py",
   "mimetype": "text/x-python",
   "name": "python",
   "nbconvert_exporter": "python",
   "pygments_lexer": "ipython3",
   "version": "3.8.5"
  }
 },
 "nbformat": 4,
 "nbformat_minor": 4
}
