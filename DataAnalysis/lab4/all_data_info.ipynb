{
 "cells": [
  {
   "cell_type": "code",
   "execution_count": 1,
   "id": "9846b578-2a96-4bc2-8dd8-f55ee595b20a",
   "metadata": {},
   "outputs": [],
   "source": [
    "# Импорт базовых библиотек\n",
    "import numpy as np\n",
    "import pandas as pd\n",
    "\n",
    "# Визуализация\n",
    "\n",
    "import seaborn as sns\n",
    "import matplotlib.pyplot as plt\n",
    "\n",
    "# Utils\n",
    "from sklearn.model_selection import train_test_split, cross_val_score\n"
   ]
  },
  {
   "cell_type": "code",
   "execution_count": 2,
   "id": "9855daaf-38d8-4a95-a815-b85a59fa49a8",
   "metadata": {},
   "outputs": [
    {
     "data": {
      "text/html": [
       "<div>\n",
       "<style scoped>\n",
       "    .dataframe tbody tr th:only-of-type {\n",
       "        vertical-align: middle;\n",
       "    }\n",
       "\n",
       "    .dataframe tbody tr th {\n",
       "        vertical-align: top;\n",
       "    }\n",
       "\n",
       "    .dataframe thead th {\n",
       "        text-align: right;\n",
       "    }\n",
       "</style>\n",
       "<table border=\"1\" class=\"dataframe\">\n",
       "  <thead>\n",
       "    <tr style=\"text-align: right;\">\n",
       "      <th></th>\n",
       "      <th>full_name</th>\n",
       "      <th>rating</th>\n",
       "      <th>jersey</th>\n",
       "      <th>team</th>\n",
       "      <th>position</th>\n",
       "      <th>b_day</th>\n",
       "      <th>height</th>\n",
       "      <th>weight</th>\n",
       "      <th>salary</th>\n",
       "      <th>country</th>\n",
       "      <th>draft_year</th>\n",
       "      <th>draft_round</th>\n",
       "      <th>draft_peak</th>\n",
       "      <th>college</th>\n",
       "      <th>version</th>\n",
       "    </tr>\n",
       "  </thead>\n",
       "  <tbody>\n",
       "    <tr>\n",
       "      <th>0</th>\n",
       "      <td>LeBron James</td>\n",
       "      <td>97</td>\n",
       "      <td>#23</td>\n",
       "      <td>Los Angeles Lakers</td>\n",
       "      <td>F</td>\n",
       "      <td>12/30/84</td>\n",
       "      <td>6-9 / 2.06</td>\n",
       "      <td>250 lbs. / 113.4 kg.</td>\n",
       "      <td>$37436858</td>\n",
       "      <td>USA</td>\n",
       "      <td>2003</td>\n",
       "      <td>1</td>\n",
       "      <td>1</td>\n",
       "      <td>NaN</td>\n",
       "      <td>NBA2k20</td>\n",
       "    </tr>\n",
       "    <tr>\n",
       "      <th>1</th>\n",
       "      <td>Kawhi Leonard</td>\n",
       "      <td>97</td>\n",
       "      <td>#2</td>\n",
       "      <td>Los Angeles Clippers</td>\n",
       "      <td>F</td>\n",
       "      <td>06/29/91</td>\n",
       "      <td>6-7 / 2.01</td>\n",
       "      <td>225 lbs. / 102.1 kg.</td>\n",
       "      <td>$32742000</td>\n",
       "      <td>USA</td>\n",
       "      <td>2011</td>\n",
       "      <td>1</td>\n",
       "      <td>15</td>\n",
       "      <td>San Diego State</td>\n",
       "      <td>NBA2k20</td>\n",
       "    </tr>\n",
       "    <tr>\n",
       "      <th>2</th>\n",
       "      <td>Giannis Antetokounmpo</td>\n",
       "      <td>96</td>\n",
       "      <td>#34</td>\n",
       "      <td>Milwaukee Bucks</td>\n",
       "      <td>F-G</td>\n",
       "      <td>12/06/94</td>\n",
       "      <td>6-11 / 2.11</td>\n",
       "      <td>242 lbs. / 109.8 kg.</td>\n",
       "      <td>$25842697</td>\n",
       "      <td>Greece</td>\n",
       "      <td>2013</td>\n",
       "      <td>1</td>\n",
       "      <td>15</td>\n",
       "      <td>NaN</td>\n",
       "      <td>NBA2k20</td>\n",
       "    </tr>\n",
       "    <tr>\n",
       "      <th>3</th>\n",
       "      <td>Kevin Durant</td>\n",
       "      <td>96</td>\n",
       "      <td>#7</td>\n",
       "      <td>Brooklyn Nets</td>\n",
       "      <td>F</td>\n",
       "      <td>09/29/88</td>\n",
       "      <td>6-10 / 2.08</td>\n",
       "      <td>230 lbs. / 104.3 kg.</td>\n",
       "      <td>$37199000</td>\n",
       "      <td>USA</td>\n",
       "      <td>2007</td>\n",
       "      <td>1</td>\n",
       "      <td>2</td>\n",
       "      <td>Texas</td>\n",
       "      <td>NBA2k20</td>\n",
       "    </tr>\n",
       "    <tr>\n",
       "      <th>4</th>\n",
       "      <td>James Harden</td>\n",
       "      <td>96</td>\n",
       "      <td>#13</td>\n",
       "      <td>Houston Rockets</td>\n",
       "      <td>G</td>\n",
       "      <td>08/26/89</td>\n",
       "      <td>6-5 / 1.96</td>\n",
       "      <td>220 lbs. / 99.8 kg.</td>\n",
       "      <td>$38199000</td>\n",
       "      <td>USA</td>\n",
       "      <td>2009</td>\n",
       "      <td>1</td>\n",
       "      <td>3</td>\n",
       "      <td>Arizona State</td>\n",
       "      <td>NBA2k20</td>\n",
       "    </tr>\n",
       "  </tbody>\n",
       "</table>\n",
       "</div>"
      ],
      "text/plain": [
       "               full_name  rating jersey                  team position  \\\n",
       "0           LeBron James      97    #23    Los Angeles Lakers        F   \n",
       "1          Kawhi Leonard      97     #2  Los Angeles Clippers        F   \n",
       "2  Giannis Antetokounmpo      96    #34       Milwaukee Bucks      F-G   \n",
       "3           Kevin Durant      96     #7         Brooklyn Nets        F   \n",
       "4           James Harden      96    #13       Houston Rockets        G   \n",
       "\n",
       "      b_day       height                weight     salary country  draft_year  \\\n",
       "0  12/30/84   6-9 / 2.06  250 lbs. / 113.4 kg.  $37436858     USA        2003   \n",
       "1  06/29/91   6-7 / 2.01  225 lbs. / 102.1 kg.  $32742000     USA        2011   \n",
       "2  12/06/94  6-11 / 2.11  242 lbs. / 109.8 kg.  $25842697  Greece        2013   \n",
       "3  09/29/88  6-10 / 2.08  230 lbs. / 104.3 kg.  $37199000     USA        2007   \n",
       "4  08/26/89   6-5 / 1.96   220 lbs. / 99.8 kg.  $38199000     USA        2009   \n",
       "\n",
       "  draft_round draft_peak          college  version  \n",
       "0           1          1              NaN  NBA2k20  \n",
       "1           1         15  San Diego State  NBA2k20  \n",
       "2           1         15              NaN  NBA2k20  \n",
       "3           1          2            Texas  NBA2k20  \n",
       "4           1          3    Arizona State  NBA2k20  "
      ]
     },
     "execution_count": 2,
     "metadata": {},
     "output_type": "execute_result"
    }
   ],
   "source": [
    "df = pd.read_csv('nba2k-full.csv')\n",
    "df.head()"
   ]
  },
  {
   "cell_type": "code",
   "execution_count": 3,
   "id": "8c51775b-df58-43e1-b9a1-8e70ce87b615",
   "metadata": {},
   "outputs": [
    {
     "data": {
      "text/html": [
       "<div>\n",
       "<style scoped>\n",
       "    .dataframe tbody tr th:only-of-type {\n",
       "        vertical-align: middle;\n",
       "    }\n",
       "\n",
       "    .dataframe tbody tr th {\n",
       "        vertical-align: top;\n",
       "    }\n",
       "\n",
       "    .dataframe thead th {\n",
       "        text-align: right;\n",
       "    }\n",
       "</style>\n",
       "<table border=\"1\" class=\"dataframe\">\n",
       "  <thead>\n",
       "    <tr style=\"text-align: right;\">\n",
       "      <th></th>\n",
       "      <th>rating</th>\n",
       "      <th>jersey</th>\n",
       "      <th>b_day</th>\n",
       "      <th>height</th>\n",
       "      <th>weight</th>\n",
       "      <th>salary</th>\n",
       "      <th>draft_year</th>\n",
       "      <th>draft_round</th>\n",
       "      <th>draft_peak</th>\n",
       "    </tr>\n",
       "  </thead>\n",
       "  <tbody>\n",
       "    <tr>\n",
       "      <th>0</th>\n",
       "      <td>97</td>\n",
       "      <td>#23</td>\n",
       "      <td>12/30/84</td>\n",
       "      <td>6-9 / 2.06</td>\n",
       "      <td>250 lbs. / 113.4 kg.</td>\n",
       "      <td>$37436858</td>\n",
       "      <td>2003</td>\n",
       "      <td>1</td>\n",
       "      <td>1</td>\n",
       "    </tr>\n",
       "    <tr>\n",
       "      <th>1</th>\n",
       "      <td>97</td>\n",
       "      <td>#2</td>\n",
       "      <td>06/29/91</td>\n",
       "      <td>6-7 / 2.01</td>\n",
       "      <td>225 lbs. / 102.1 kg.</td>\n",
       "      <td>$32742000</td>\n",
       "      <td>2011</td>\n",
       "      <td>1</td>\n",
       "      <td>15</td>\n",
       "    </tr>\n",
       "    <tr>\n",
       "      <th>2</th>\n",
       "      <td>96</td>\n",
       "      <td>#34</td>\n",
       "      <td>12/06/94</td>\n",
       "      <td>6-11 / 2.11</td>\n",
       "      <td>242 lbs. / 109.8 kg.</td>\n",
       "      <td>$25842697</td>\n",
       "      <td>2013</td>\n",
       "      <td>1</td>\n",
       "      <td>15</td>\n",
       "    </tr>\n",
       "    <tr>\n",
       "      <th>3</th>\n",
       "      <td>96</td>\n",
       "      <td>#7</td>\n",
       "      <td>09/29/88</td>\n",
       "      <td>6-10 / 2.08</td>\n",
       "      <td>230 lbs. / 104.3 kg.</td>\n",
       "      <td>$37199000</td>\n",
       "      <td>2007</td>\n",
       "      <td>1</td>\n",
       "      <td>2</td>\n",
       "    </tr>\n",
       "    <tr>\n",
       "      <th>4</th>\n",
       "      <td>96</td>\n",
       "      <td>#13</td>\n",
       "      <td>08/26/89</td>\n",
       "      <td>6-5 / 1.96</td>\n",
       "      <td>220 lbs. / 99.8 kg.</td>\n",
       "      <td>$38199000</td>\n",
       "      <td>2009</td>\n",
       "      <td>1</td>\n",
       "      <td>3</td>\n",
       "    </tr>\n",
       "  </tbody>\n",
       "</table>\n",
       "</div>"
      ],
      "text/plain": [
       "   rating jersey     b_day       height                weight     salary  \\\n",
       "0      97    #23  12/30/84   6-9 / 2.06  250 lbs. / 113.4 kg.  $37436858   \n",
       "1      97     #2  06/29/91   6-7 / 2.01  225 lbs. / 102.1 kg.  $32742000   \n",
       "2      96    #34  12/06/94  6-11 / 2.11  242 lbs. / 109.8 kg.  $25842697   \n",
       "3      96     #7  09/29/88  6-10 / 2.08  230 lbs. / 104.3 kg.  $37199000   \n",
       "4      96    #13  08/26/89   6-5 / 1.96   220 lbs. / 99.8 kg.  $38199000   \n",
       "\n",
       "   draft_year draft_round draft_peak  \n",
       "0        2003           1          1  \n",
       "1        2011           1         15  \n",
       "2        2013           1         15  \n",
       "3        2007           1          2  \n",
       "4        2009           1          3  "
      ]
     },
     "execution_count": 3,
     "metadata": {},
     "output_type": "execute_result"
    }
   ],
   "source": [
    "df = df.drop(['full_name', 'team', 'position', 'country', 'college', 'version', ], axis=1)\n",
    "df.head()"
   ]
  },
  {
   "cell_type": "code",
   "execution_count": 4,
   "id": "c22f06d7-329c-4af7-b6fd-9c60d1a69adc",
   "metadata": {},
   "outputs": [
    {
     "name": "stdout",
     "output_type": "stream",
     "text": [
      "<class 'pandas.core.frame.DataFrame'>\n",
      "RangeIndex: 439 entries, 0 to 438\n",
      "Data columns (total 9 columns):\n",
      " #   Column       Non-Null Count  Dtype  \n",
      "---  ------       --------------  -----  \n",
      " 0   rating       439 non-null    int64  \n",
      " 1   jersey       439 non-null    int32  \n",
      " 2   b_day        439 non-null    int64  \n",
      " 3   height       439 non-null    float64\n",
      " 4   weight       439 non-null    float64\n",
      " 5   salary       439 non-null    int32  \n",
      " 6   draft_year   439 non-null    int64  \n",
      " 7   draft_round  439 non-null    object \n",
      " 8   draft_peak   439 non-null    object \n",
      "dtypes: float64(2), int32(2), int64(3), object(2)\n",
      "memory usage: 27.6+ KB\n"
     ]
    }
   ],
   "source": [
    "df['jersey'] = df['jersey'].map(lambda x: x.lstrip('#'))\n",
    "df['jersey'] = df['jersey'].astype(int)\n",
    "df['salary'] = df['salary'].map(lambda x: x.lstrip('$'))\n",
    "df['salary'] = df['salary'].astype(int)\n",
    "df['draft_year'] = [2020-x for x in df['draft_year']]\n",
    "df['height'] = df['height'].str.split('/').str.get(1)\n",
    "df['height'] = df['height'].astype(float)\n",
    "df['weight'] = df['weight'].str.split('/').str.get(1)\n",
    "df['weight'] = [x[:-3] for x in df['weight']]\n",
    "df['weight'] = df['weight'].astype(float)\n",
    "df['b_day'] = pd.to_datetime(df['b_day'])\n",
    "df['b_day'] = df['b_day'].dt.year\n",
    "df['b_day'] = [2020-x for x in df['b_day']]\n",
    "df.info()"
   ]
  },
  {
   "cell_type": "code",
   "execution_count": 5,
   "id": "8f1953ca-9160-4b4f-bfd5-c602132967f4",
   "metadata": {},
   "outputs": [
    {
     "name": "stdout",
     "output_type": "stream",
     "text": [
      "b_day:  NormaltestResult(statistic=19.046651723136662, pvalue=7.312605233803387e-05)\n",
      "rating:  NormaltestResult(statistic=94.02751010751368, pvalue=3.82107539157023e-21)\n",
      "jersey:  NormaltestResult(statistic=196.92445596700114, pvalue=1.7314011867778939e-43)\n",
      "height:  NormaltestResult(statistic=5.62618509546723, pvalue=0.060019093178853275)\n",
      "weight:  NormaltestResult(statistic=10.237619117305298, pvalue=0.005983141235895887)\n",
      "salary:  NormaltestResult(statistic=118.93128312651041, pvalue=1.494169978880649e-26)\n",
      "draft_year:  NormaltestResult(statistic=36.08344165873096, pvalue=1.4607644792221953e-08)\n"
     ]
    }
   ],
   "source": [
    "from scipy import stats\n",
    "print('b_day: ', stats.normaltest(df['b_day']))\n",
    "print('rating: ', stats.normaltest(df['rating']))\n",
    "print('jersey: ', stats.normaltest(df['jersey']))\n",
    "print('height: ', stats.normaltest(df['height']))\n",
    "print('weight: ', stats.normaltest(df['weight']))\n",
    "print('salary: ', stats.normaltest(df['salary']))\n",
    "print('draft_year: ', stats.normaltest(df['draft_year']))"
   ]
  },
  {
   "cell_type": "code",
   "execution_count": 6,
   "id": "590a2556-47a5-408d-b620-5790086584e1",
   "metadata": {},
   "outputs": [
    {
     "name": "stdout",
     "output_type": "stream",
     "text": [
      "b_day:  KstestResult(statistic=0.07041563050908042, pvalue=0.024480024990342186)\n",
      "rating:  KstestResult(statistic=0.06016404452323826, pvalue=0.07996904110491976)\n",
      "jersey:  KstestResult(statistic=0.3685681487989494, pvalue=5.382589466069343e-54)\n",
      "height:  KstestResult(statistic=0.07360229321395378, pvalue=0.01631440373013699)\n",
      "weight:  KstestResult(statistic=0.04369516864743539, pvalue=0.3612576699741178)\n",
      "salary:  KstestResult(statistic=0.7812306425692018, pvalue=2.739436262047476e-284)\n",
      "draft_year:  KstestResult(statistic=0.10083099812538493, pvalue=0.00024444134937172483)\n"
     ]
    }
   ],
   "source": [
    "print('b_day: ', stats.kstest(df['b_day'], \"lognorm\", stats.lognorm.fit(df['b_day'])))\n",
    "print('rating: ', stats.kstest(df['rating'], \"lognorm\", stats.lognorm.fit(df['rating'])))\n",
    "print('jersey: ', stats.kstest(df['jersey'], \"lognorm\", stats.lognorm.fit(df['jersey'])))\n",
    "print('height: ', stats.kstest(df['height'], \"lognorm\", stats.lognorm.fit(df['height'])))\n",
    "print('weight: ', stats.kstest(df['weight'], \"lognorm\", stats.lognorm.fit(df['weight'])))\n",
    "print('salary: ', stats.kstest(df['salary'], \"lognorm\", stats.lognorm.fit(df['salary'])))\n",
    "print('draft_year: ', stats.kstest(df['draft_year'], \"lognorm\", stats.lognorm.fit(df['draft_year'])))"
   ]
  },
  {
   "cell_type": "code",
   "execution_count": 7,
   "id": "d71b2a5c-4b3d-4cc0-8bc6-97d8c55d405f",
   "metadata": {},
   "outputs": [
    {
     "name": "stdout",
     "output_type": "stream",
     "text": [
      "rating:  NormaltestResult(statistic=69.81310759095422, pvalue=6.922712637299939e-16)\n",
      "weight:  NormaltestResult(statistic=7.6181632373789245, pvalue=0.022168528773669243)\n"
     ]
    }
   ],
   "source": [
    "print('rating: ', stats.normaltest(np.log(df['rating'])))\n",
    "print('weight: ', stats.normaltest(np.log(df['weight'])))"
   ]
  },
  {
   "cell_type": "code",
   "execution_count": 8,
   "id": "79f26adc-178d-4208-84ca-a3706d98fb49",
   "metadata": {},
   "outputs": [
    {
     "data": {
      "image/png": "[encoded data removed]",
      "text/plain": [
       "<Figure size 432x288 with 2 Axes>"
      ]
     },
     "metadata": {
      "needs_background": "light"
     },
     "output_type": "display_data"
    }
   ],
   "source": [
    "sns.heatmap(df.corr(), vmin=-1, vmax=1, annot=True);"
   ]
  },
  {
   "cell_type": "code",
   "execution_count": null,
   "id": "6aceaa31-325b-4d5c-a5e8-4311befac6ed",
   "metadata": {},
   "outputs": [],
   "source": []
  }
 ],
 "metadata": {
  "kernelspec": {
   "display_name": "Python 3 (ipykernel)",
   "language": "python",
   "name": "python3"
  },
  "language_info": {
   "codemirror_mode": {
    "name": "ipython",
    "version": 3
   },
   "file_extension": ".py",
   "mimetype": "text/x-python",
   "name": "python",
   "nbconvert_exporter": "python",
   "pygments_lexer": "ipython3",
   "version": "3.9.6"
  }
 },
 "nbformat": 4,
 "nbformat_minor": 5
}
