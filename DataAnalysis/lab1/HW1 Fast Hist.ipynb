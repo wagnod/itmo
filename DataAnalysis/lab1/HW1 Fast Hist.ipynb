{
 "cells": [
  {
   "cell_type": "code",
   "execution_count": 1,
   "id": "622bafec",
   "metadata": {},
   "outputs": [],
   "source": [
    "from typing import List, Tuple, Union\n",
    "import matplotlib.pyplot as plt\n",
    "def fast_hist(array: List[Union[int, float]], \n",
    "              bins: int) -> Tuple[List[float], List[float]]:\n",
    "    \"\"\"\n",
    "    Builds bins' labels and bins' value counts for given array\n",
    "    :param array: array with numeric values\n",
    "    :param bins:  number of bins in result distribution\n",
    "    :return: Two lists: \n",
    "             first contains value counts of each bin,\n",
    "             second contains list of bins' labels\n",
    "    \"\"\"\n",
    "    array.sort()\n",
    "    bin_counts = [0.0] * bins\n",
    "    bin_labels = []\n",
    "    bin_width = (array[len(array)-1] - array[0]) / bins\n",
    "    bin_labels.append(float(array[0]))\n",
    "    for i in range(1, bins + 1):\n",
    "        bin_labels.append(bin_labels[i - 1] + bin_width)\n",
    "        \n",
    "    j = 0\n",
    "    i = 0\n",
    "    while  i < len(array) and j < len(bin_labels) - 1:    \n",
    "        if array[i] <= bin_labels[j + 1]:\n",
    "            bin_counts[j] += 1.0\n",
    "            i += 1\n",
    "        else: \n",
    "            j += 1\n",
    "    \n",
    "    return (bin_counts, bin_labels)"
   ]
  },
  {
   "cell_type": "code",
   "execution_count": 7,
   "id": "7b2ae858",
   "metadata": {},
   "outputs": [
    {
     "name": "stdout",
     "output_type": "stream",
     "text": [
      "Значения колонок: [14.]\n",
      "Названия колонок: [1.5 2.5]\n"
     ]
    },
    {
     "data": {
      "image/png": "[encoded data removed]",
      "text/plain": [
       "<Figure size 432x288 with 1 Axes>"
      ]
     },
     "metadata": {
      "needs_background": "light"
     },
     "output_type": "display_data"
    }
   ],
   "source": [
    "import numpy as np\n",
    "from random import randint\n",
    "size = randint(50, 100)\n",
    "arr = []\n",
    "for i in range(size):\n",
    "    arr.append(randint(0, 25))\n",
    "arr = [2, 2, 2, 2,2, 2,2, 2,2, 2,2, 2,2, 2]\n",
    "value_counts, bins_names, visual_figure = plt.hist(arr, \n",
    "                                                   bins=len(set(arr)), \n",
    "                                                   rwidth=0.9)\n",
    "# Параметр rwidth и визуализацию в своей функции реализовывать не требуется\n",
    "print('Значения колонок:', value_counts)\n",
    "print('Названия колонок:', bins_names)"
   ]
  },
  {
   "cell_type": "code",
   "execution_count": 8,
   "id": "1f223183",
   "metadata": {},
   "outputs": [
    {
     "name": "stdout",
     "output_type": "stream",
     "text": [
      "Значения колонок: [14.0]\n",
      "Названия колонок: [2.0, 2.0]\n"
     ]
    }
   ],
   "source": [
    "value_counts, bins_names = fast_hist(arr, bins=len(set(arr)))     \n",
    "\n",
    "print('Значения колонок:', value_counts)\n",
    "print('Названия колонок:', bins_names)"
   ]
  },
  {
   "cell_type": "code",
   "execution_count": 9,
   "id": "b3133747",
   "metadata": {},
   "outputs": [
    {
     "data": {
      "text/plain": [
       "<BarContainer object of 1 artists>"
      ]
     },
     "execution_count": 9,
     "metadata": {},
     "output_type": "execute_result"
    },
    {
     "data": {
      "image/png": "[encoded data removed]",
      "text/plain": [
       "<Figure size 432x288 with 1 Axes>"
      ]
     },
     "metadata": {
      "needs_background": "light"
     },
     "output_type": "display_data"
    }
   ],
   "source": [
    "bin_width = bins_names[1] - bins_names[0]\n",
    "plt.bar(np.array(bins_names[:len(value_counts)]), np.array(value_counts), width=bin_width*0.9, align='edge')   "
   ]
  },
  {
   "cell_type": "code",
   "execution_count": 5,
   "id": "dec71102",
   "metadata": {},
   "outputs": [
    {
     "name": "stdout",
     "output_type": "stream",
     "text": [
      "64.9 µs ± 2.38 µs per loop (mean ± std. dev. of 7 runs, 10000 loops each)\n"
     ]
    }
   ],
   "source": [
    "%timeit np.histogram_bin_edges(arr, bins=len(set(arr)))"
   ]
  },
  {
   "cell_type": "code",
   "execution_count": 6,
   "id": "71e856b7",
   "metadata": {},
   "outputs": [
    {
     "name": "stdout",
     "output_type": "stream",
     "text": [
      "21.1 µs ± 817 ns per loop (mean ± std. dev. of 7 runs, 10000 loops each)\n"
     ]
    }
   ],
   "source": [
    "%timeit fast_hist(arr, bins=len(set(arr)))"
   ]
  }
 ],
 "metadata": {
  "kernelspec": {
   "display_name": "Python 3 (ipykernel)",
   "language": "python",
   "name": "python3"
  },
  "language_info": {
   "codemirror_mode": {
    "name": "ipython",
    "version": 3
   },
   "file_extension": ".py",
   "mimetype": "text/x-python",
   "name": "python",
   "nbconvert_exporter": "python",
   "pygments_lexer": "ipython3",
   "version": "3.9.6"
  }
 },
 "nbformat": 4,
 "nbformat_minor": 5
}
